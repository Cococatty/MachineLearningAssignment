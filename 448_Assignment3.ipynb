{
  "nbformat": 4,
  "nbformat_minor": 0,
  "metadata": {
    "colab": {
      "name": "448_Assignment3.ipynb",
      "provenance": [],
      "collapsed_sections": [],
      "toc_visible": true,
      "include_colab_link": true
    },
    "kernelspec": {
      "name": "python3",
      "display_name": "Python 3"
    }
  },
  "cells": [
    {
      "cell_type": "markdown",
      "metadata": {
        "id": "view-in-github",
        "colab_type": "text"
      },
      "source": [
        "<a href=\"https://colab.research.google.com/github/Cococatty/MachineLearningAssignment/blob/master/448_Assignment3.ipynb\" target=\"_parent\"><img src=\"https://colab.research.google.com/assets/colab-badge.svg\" alt=\"Open In Colab\"/></a>"
      ]
    },
    {
      "cell_type": "markdown",
      "metadata": {
        "id": "CDd7EWVBBvij",
        "colab_type": "text"
      },
      "source": [
        "Import all required libraries\n",
        "--------------------------------------\n"
      ]
    },
    {
      "cell_type": "code",
      "metadata": {
        "id": "QhAFwOrrAJC2",
        "colab_type": "code",
        "colab": {
          "base_uri": "https://localhost:8080/",
          "height": 34
        },
        "outputId": "c312c04a-9d22-4950-e179-50fba66a63a8"
      },
      "source": [
        "%matplotlib inline\n",
        "%config InlineBackend.figure_format = 'retina'\n",
        "import matplotlib.pyplot as plt\n",
        "import pandas as pd\n",
        "\n",
        "import numpy as np\n",
        "import seaborn as sns\n",
        "import warnings\n",
        "import time\n",
        "\n",
        "warnings.filterwarnings('ignore')\n",
        "pd.options.display.float_format = '{:,.2f}'.format\n",
        "pd.set_option('display.max_rows', 100)\n",
        "pd.set_option('display.max_columns', 200)\n",
        "\n",
        "from __future__ import print_function\n",
        "from datetime import datetime\n",
        "from matplotlib.colors import ListedColormap\n",
        "from sklearn.datasets import make_classification, make_moons, make_circles\n",
        "from sklearn.metrics import confusion_matrix, classification_report, mean_squared_error, mean_absolute_error, r2_score\n",
        "from sklearn.linear_model import LogisticRegression\n",
        "from sklearn.utils import shuffle\n",
        "from keras.models import Sequential\n",
        "from keras.layers import Dense, Dropout, BatchNormalization, Activation\n",
        "from keras.optimizers import *\n",
        "from keras.callbacks import EarlyStopping\n",
        "from keras.utils.np_utils import to_categorical\n",
        "from sklearn.preprocessing import StandardScaler, LabelEncoder, OneHotEncoder, MinMaxScaler\n",
        "from sklearn.model_selection import train_test_split, cross_val_score, StratifiedKFold, KFold\n",
        "import keras.backend as K\n",
        "from keras.wrappers.scikit_learn import KerasClassifier\n",
        "\n",
        "from keras import optimizers"
      ],
      "execution_count": 1,
      "outputs": [
        {
          "output_type": "stream",
          "text": [
            "Using TensorFlow backend.\n"
          ],
          "name": "stderr"
        }
      ]
    },
    {
      "cell_type": "markdown",
      "metadata": {
        "id": "f_dfYCC-Am3D",
        "colab_type": "text"
      },
      "source": [
        "# Assisting function"
      ]
    },
    {
      "cell_type": "code",
      "metadata": {
        "id": "hlH5E7l0B8yR",
        "colab_type": "code",
        "colab": {}
      },
      "source": [
        "def plot_loss_accuracy(history, title=\"\"):\n",
        "    historydf = pd.DataFrame(history.history, index=history.epoch)\n",
        "    plt.figure(figsize=(8, 6))\n",
        "    historydf.plot(ylim=(0, max(1, historydf.values.max())))\n",
        "    loss = history.history['loss'][-1]\n",
        "    acc = history.history['acc'][-1]\n",
        "    plt.title('Loss: %.3f, Accuracy: %.3f by %s' % (loss, acc, title))"
      ],
      "execution_count": 0,
      "outputs": []
    },
    {
      "cell_type": "markdown",
      "metadata": {
        "id": "We7WFUyZCN4Q",
        "colab_type": "text"
      },
      "source": [
        "# Load fashion_mnist data"
      ]
    },
    {
      "cell_type": "code",
      "metadata": {
        "id": "6gZ5_ofPCDiB",
        "colab_type": "code",
        "colab": {}
      },
      "source": [
        "from keras.datasets import fashion_mnist\n",
        "\n",
        "(x_train, y_train), (x_test, y_test) = fashion_mnist.load_data()"
      ],
      "execution_count": 0,
      "outputs": []
    },
    {
      "cell_type": "code",
      "metadata": {
        "id": "61eLjx8evlYR",
        "colab_type": "code",
        "colab": {}
      },
      "source": [
        ""
      ],
      "execution_count": 0,
      "outputs": []
    },
    {
      "cell_type": "markdown",
      "metadata": {
        "id": "_KHeDtJ9_Wpr",
        "colab_type": "text"
      },
      "source": [
        "## Show basic data information"
      ]
    },
    {
      "cell_type": "code",
      "metadata": {
        "id": "vS4Ib5teCULx",
        "colab_type": "code",
        "outputId": "17cd9552-bad8-4824-bef3-e2e8b9490891",
        "colab": {
          "base_uri": "https://localhost:8080/",
          "height": 119
        }
      },
      "source": [
        "print(\"Training data shape: \", x_train.shape) # (60000, 28, 28) -- 60000 images, each 28x28 pixels\n",
        "print(\"Test data shape\", x_test.shape) # (10000, 28, 28) -- 10000 images, each 28x28\n",
        "print(\"Training response shape:, \", y_train.shape)\n",
        "print(\"Testing response shape: \", y_test.shape)\n",
        "\n",
        "image_size = (x_train.shape[1], x_train.shape[2])\n",
        "\n",
        "print(image_size)\n",
        "print(x_train.shape[2])"
      ],
      "execution_count": 4,
      "outputs": [
        {
          "output_type": "stream",
          "text": [
            "Training data shape:  (60000, 28, 28)\n",
            "Test data shape (10000, 28, 28)\n",
            "Training response shape:,  (60000,)\n",
            "Testing response shape:  (10000,)\n",
            "(28, 28)\n",
            "28\n"
          ],
          "name": "stdout"
        }
      ]
    },
    {
      "cell_type": "markdown",
      "metadata": {
        "id": "ZnoovBrq_jqj",
        "colab_type": "text"
      },
      "source": [
        "# Preparing images data for fully connected network"
      ]
    },
    {
      "cell_type": "code",
      "metadata": {
        "id": "cLTz2uGKCm4R",
        "colab_type": "code",
        "outputId": "bda5a18b-85f0-4276-afd6-c25597ae305e",
        "colab": {
          "base_uri": "https://localhost:8080/",
          "height": 170
        }
      },
      "source": [
        "# Flatten the images\n",
        "image_vector_size = image_size[0] * image_size[1] # 28 * 28\n",
        "x_train = x_train.reshape(x_train.shape[0], image_vector_size) /255.\n",
        "x_test = x_test.reshape(x_test.shape[0], image_vector_size) /255.\n",
        "print(x_train.shape)\n",
        "\n",
        "print(\"First 5 training labels: \", y_train[:5]) # [5, 0, 4, 1, 9]\n",
        "\n",
        "# Convert to \"one-hot\" vectors using the to_categorical function\n",
        "num_classes = 10\n",
        "y_train = to_categorical(y_train, num_classes)\n",
        "y_test = to_categorical(y_test, num_classes)\n",
        "print(\"First 5 training lables as one-hot encoded vectors:\\n\", y_train[:5])\n",
        "print(y_train.shape)"
      ],
      "execution_count": 5,
      "outputs": [
        {
          "output_type": "stream",
          "text": [
            "(60000, 784)\n",
            "First 5 training labels:  [9 0 0 3 0]\n",
            "First 5 training lables as one-hot encoded vectors:\n",
            " [[0. 0. 0. 0. 0. 0. 0. 0. 0. 1.]\n",
            " [1. 0. 0. 0. 0. 0. 0. 0. 0. 0.]\n",
            " [1. 0. 0. 0. 0. 0. 0. 0. 0. 0.]\n",
            " [0. 0. 0. 1. 0. 0. 0. 0. 0. 0.]\n",
            " [1. 0. 0. 0. 0. 0. 0. 0. 0. 0.]]\n",
            "(60000, 10)\n"
          ],
          "name": "stdout"
        }
      ]
    },
    {
      "cell_type": "markdown",
      "metadata": {
        "id": "sLbxNAxMD4WY",
        "colab_type": "text"
      },
      "source": [
        "# Simple models"
      ]
    },
    {
      "cell_type": "code",
      "metadata": {
        "id": "0lU1QEd_D4yz",
        "colab_type": "code",
        "outputId": "1b1b4db8-8158-4b98-e192-bd05138d7a85",
        "colab": {
          "base_uri": "https://localhost:8080/",
          "height": 547
        }
      },
      "source": [
        "def build_basic_model(num_unit = 32):\n",
        "  model = Sequential()\n",
        "  \n",
        "  model.add(Dense(\n",
        "      units = num_unit\n",
        "      , activation = \"sigmoid\"\n",
        "      , input_shape = (image_vector_size,)\n",
        "  ))\n",
        "  \n",
        "  model.add(Dense(\n",
        "      units = num_classes\n",
        "      , activation = \"softmax\"\n",
        "  ))\n",
        "  \n",
        "  return model\n",
        "  \n",
        "  \n",
        "model_32 = build_basic_model()\n",
        "model_64 = build_basic_model(64)\n",
        "model_32.summary()\n",
        "model_64.summary()"
      ],
      "execution_count": 6,
      "outputs": [
        {
          "output_type": "stream",
          "text": [
            "WARNING:tensorflow:From /usr/local/lib/python3.6/dist-packages/keras/backend/tensorflow_backend.py:66: The name tf.get_default_graph is deprecated. Please use tf.compat.v1.get_default_graph instead.\n",
            "\n",
            "WARNING:tensorflow:From /usr/local/lib/python3.6/dist-packages/keras/backend/tensorflow_backend.py:541: The name tf.placeholder is deprecated. Please use tf.compat.v1.placeholder instead.\n",
            "\n",
            "WARNING:tensorflow:From /usr/local/lib/python3.6/dist-packages/keras/backend/tensorflow_backend.py:4432: The name tf.random_uniform is deprecated. Please use tf.random.uniform instead.\n",
            "\n",
            "Model: \"sequential_1\"\n",
            "_________________________________________________________________\n",
            "Layer (type)                 Output Shape              Param #   \n",
            "=================================================================\n",
            "dense_1 (Dense)              (None, 32)                25120     \n",
            "_________________________________________________________________\n",
            "dense_2 (Dense)              (None, 10)                330       \n",
            "=================================================================\n",
            "Total params: 25,450\n",
            "Trainable params: 25,450\n",
            "Non-trainable params: 0\n",
            "_________________________________________________________________\n",
            "Model: \"sequential_2\"\n",
            "_________________________________________________________________\n",
            "Layer (type)                 Output Shape              Param #   \n",
            "=================================================================\n",
            "dense_3 (Dense)              (None, 64)                50240     \n",
            "_________________________________________________________________\n",
            "dense_4 (Dense)              (None, 10)                650       \n",
            "=================================================================\n",
            "Total params: 50,890\n",
            "Trainable params: 50,890\n",
            "Non-trainable params: 0\n",
            "_________________________________________________________________\n"
          ],
          "name": "stdout"
        }
      ]
    },
    {
      "cell_type": "markdown",
      "metadata": {
        "id": "LUt9bf827QeI",
        "colab_type": "text"
      },
      "source": [
        "# Fitting models with different configurations\n"
      ]
    },
    {
      "cell_type": "markdown",
      "metadata": {
        "id": "ZS9mvlU2mV6O",
        "colab_type": "text"
      },
      "source": [
        "## Try different optimizers"
      ]
    },
    {
      "cell_type": "code",
      "metadata": {
        "id": "Bwm351PBa2XP",
        "colab_type": "code",
        "colab": {}
      },
      "source": [
        "# Build and evaluate model\n",
        "def build_model_optimizer(optimizerName = \"sgd\"):\n",
        "  # Start timer\n",
        "  StartTime = time.time()\n",
        "  \n",
        "  # Build SGD model, unit = 32\n",
        "  model_32.compile(optimizer = optimizerName, loss = \"categorical_crossentropy\", metrics = [\"accuracy\"])\n",
        "  \n",
        "  # Fit SGD model, unit = 32\n",
        "  model_fit_32 = model_32.fit(x_train, y_train, batch_size = 128, epochs = 5, verbose = True, validation_split = 0.1)\n",
        "  \n",
        "  # Check SDG models, unit = 32\n",
        "  loss_32, accuracy_32 = model_32.evaluate(x_test, y_test, verbose = False)\n",
        "  \n",
        "  # End timer\n",
        "  EndTime = time.time()\n",
        "  time32 = EndTime - StartTime\n",
        "   \n",
        "  # unit = 64\n",
        "  StartTime = time.time()\n",
        "  model_64.compile(optimizer =optimizerName, loss = \"categorical_crossentropy\", metrics = [\"accuracy\"])\n",
        "  model_fit_64 = model_64.fit(x_train, y_train, batch_size = 128, epochs = 5, verbose = True, validation_split = 0.1)  \n",
        "  loss_64, accuracy_64 = model_64.evaluate(x_test, y_test, verbose = False)\n",
        "  # End timer\n",
        "  EndTime = time.time()\n",
        "  time64 = EndTime - StartTime\n",
        "  \n",
        "  print(optimizerName)\n",
        "  \n",
        "  plot_loss_accuracy(model_fit_32, title = optimizerName + \" 32 units\")\n",
        "  print(f'Test loss of 32: {loss_32:.3}')\n",
        "  print(f'Test accuracy of 32: {accuracy_32:.3}')\n",
        "  print(f'Time consumption of 32: {time32}')\n",
        " \n",
        "  plot_loss_accuracy(model_fit_64, title = optimizerName + \" 64 units\")\n",
        "  print(f'Test loss of 64: {loss_64:.3}')\n",
        "  print(f'Test accuracy of 64: {accuracy_64:.3}')\n",
        "  print(f'Time consumption of 64: {time64}')\n",
        "\n",
        "# print(model_sgd_fit_32.history.keys())"
      ],
      "execution_count": 0,
      "outputs": []
    },
    {
      "cell_type": "code",
      "metadata": {
        "id": "7jJcRiXcKmJc",
        "colab_type": "code",
        "colab": {}
      },
      "source": [
        "# build_model_optimizer(optimizerName = \"sgd\")\n",
        "# build_model_optimizer(optimizerName = \"adam\")\n",
        "# build_model_optimizer(optimizerName = \"nadam\")\n",
        "\n",
        "model = model_64"
      ],
      "execution_count": 0,
      "outputs": []
    },
    {
      "cell_type": "markdown",
      "metadata": {
        "id": "dVIEXMzIFGWi",
        "colab_type": "text"
      },
      "source": [
        "## Try different learning rates"
      ]
    },
    {
      "cell_type": "code",
      "metadata": {
        "id": "GIxbQ8VE9Xfz",
        "colab_type": "code",
        "colab": {
          "base_uri": "https://localhost:8080/",
          "height": 555
        },
        "outputId": "5af28bdd-571c-414e-8e40-ef0afceb8435"
      },
      "source": [
        "learning_rate = 0.9\n",
        "\n",
        "sgd_lr = optimizers.SGD(lr = learning_rate, decay=1e-6, momentum=0.0, nesterov=True)\n",
        "\n",
        "StartTime = time.time()\n",
        "  \n",
        "model.compile(optimizer = sgd_lr, loss = \"categorical_crossentropy\", metrics = [\"accuracy\"])\n",
        "\n",
        "model_fit = model.fit(x_train, y_train, batch_size = 128, epochs = 5, verbose = True, validation_split = 0.1)\n",
        "\n",
        "# End timer\n",
        "EndTime = time.time()\n",
        "durTime = EndTime - StartTime\n",
        "\n",
        "loss, accuracy = model.evaluate(x_test, y_test, verbose = False)\n",
        "\n",
        "plot_loss_accuracy(model_fit, title = \" learning_rate = %s\" % (learning_rate))\n",
        "\n",
        "# print(durTime)\n",
        "print(f'Time consumption: {durTime}')\n",
        "# 'Time consumption: ' + \n",
        "print(f'Test loss: {loss:.3}')\n",
        "print(f'Test accuracy: {accuracy:.3}')\n",
        "# print(f'Time cost: {time:.2}')\n",
        "\n"
      ],
      "execution_count": 13,
      "outputs": [
        {
          "output_type": "stream",
          "text": [
            "Train on 54000 samples, validate on 6000 samples\n",
            "Epoch 1/5\n",
            "54000/54000 [==============================] - 2s 35us/step - loss: 0.3135 - acc: 0.8860 - val_loss: 0.3211 - val_acc: 0.8810\n",
            "Epoch 2/5\n",
            "54000/54000 [==============================] - 1s 23us/step - loss: 0.3003 - acc: 0.8889 - val_loss: 0.3273 - val_acc: 0.8812\n",
            "Epoch 3/5\n",
            "54000/54000 [==============================] - 1s 23us/step - loss: 0.2948 - acc: 0.8921 - val_loss: 0.3187 - val_acc: 0.8828\n",
            "Epoch 4/5\n",
            "54000/54000 [==============================] - 1s 24us/step - loss: 0.2907 - acc: 0.8929 - val_loss: 0.3344 - val_acc: 0.8737\n",
            "Epoch 5/5\n",
            "54000/54000 [==============================] - 1s 25us/step - loss: 0.2846 - acc: 0.8955 - val_loss: 0.3174 - val_acc: 0.8840\n",
            "Time consumption: 7.211682081222534\n",
            "Test loss: 0.347\n",
            "Test accuracy: 0.878\n"
          ],
          "name": "stdout"
        },
        {
          "output_type": "display_data",
          "data": {
            "text/plain": [
              "<Figure size 576x432 with 0 Axes>"
            ]
          },
          "metadata": {
            "tags": []
          }
        },
        {
          "output_type": "display_data",
          "data": {
            "image/png": "[encoded data removed]",
            "text/plain": [
              "<Figure size 432x288 with 1 Axes>"
            ]
          },
          "metadata": {
            "tags": [],
            "image/png": {
              "width": 380,
              "height": 263
            }
          }
        }
      ]
    },
    {
      "cell_type": "markdown",
      "metadata": {
        "id": "gUVn6HE27Zgh",
        "colab_type": "text"
      },
      "source": [
        "## Try different batch sizes"
      ]
    },
    {
      "cell_type": "code",
      "metadata": {
        "id": "gfgc_XZttwTu",
        "colab_type": "code",
        "colab": {
          "base_uri": "https://localhost:8080/",
          "height": 555
        },
        "outputId": "0496fe8e-63b8-42a8-b6bf-244d147335aa"
      },
      "source": [
        "# history = model.fit(x_train, y_train, batch_size=54000, epochs=50, verbose=True, validation_split=.1)\n",
        "\n",
        "\n",
        "batch_size_c =  4096\n",
        "# 54000\n",
        "\n",
        "StartTime = time.time()\n",
        "sgd_lr = optimizers.SGD(lr = 0.3, decay=1e-6, momentum=0.0, nesterov=True)  \n",
        "model.compile(optimizer = sgd_lr, loss = \"categorical_crossentropy\", metrics = [\"accuracy\"])\n",
        "\n",
        "model_fit = model.fit(x_train, y_train, batch_size = batch_size_c, epochs = 5, verbose = True, validation_split = 0.1)\n",
        "\n",
        "# End timer\n",
        "EndTime = time.time()\n",
        "durTime = EndTime - StartTime\n",
        "\n",
        "loss, accuracy = model.evaluate(x_test, y_test, verbose = False)\n",
        "\n",
        "plot_loss_accuracy(model_fit, title = \" batch_size = %i\" % (batch_size_c))\n",
        "\n",
        "# print(durTime)\n",
        "print(f'Time consumption: {durTime}')\n",
        "# 'Time consumption: ' + \n",
        "print(f'Test loss: {loss:.3}')\n",
        "print(f'Test accuracy: {accuracy:.3}')\n",
        "# print(f'Time cost: {time:.2}')\n",
        "\n"
      ],
      "execution_count": 16,
      "outputs": [
        {
          "output_type": "stream",
          "text": [
            "Train on 54000 samples, validate on 6000 samples\n",
            "Epoch 1/5\n",
            "54000/54000 [==============================] - 1s 21us/step - loss: 0.2401 - acc: 0.9124 - val_loss: 0.3097 - val_acc: 0.8858\n",
            "Epoch 2/5\n",
            "54000/54000 [==============================] - 1s 10us/step - loss: 0.2402 - acc: 0.9124 - val_loss: 0.3090 - val_acc: 0.8875\n",
            "Epoch 3/5\n",
            "54000/54000 [==============================] - 1s 10us/step - loss: 0.2400 - acc: 0.9124 - val_loss: 0.3094 - val_acc: 0.8865\n",
            "Epoch 4/5\n",
            "54000/54000 [==============================] - 1s 10us/step - loss: 0.2399 - acc: 0.9124 - val_loss: 0.3114 - val_acc: 0.8858\n",
            "Epoch 5/5\n",
            "54000/54000 [==============================] - 1s 10us/step - loss: 0.2399 - acc: 0.9124 - val_loss: 0.3100 - val_acc: 0.8865\n",
            "Time consumption: 3.5112338066101074\n",
            "Test loss: 0.335\n",
            "Test accuracy: 0.883\n"
          ],
          "name": "stdout"
        },
        {
          "output_type": "display_data",
          "data": {
            "text/plain": [
              "<Figure size 576x432 with 0 Axes>"
            ]
          },
          "metadata": {
            "tags": []
          }
        },
        {
          "output_type": "display_data",
          "data": {
            "image/png": "[encoded data removed]",
            "text/plain": [
              "<Figure size 432x288 with 1 Axes>"
            ]
          },
          "metadata": {
            "tags": [],
            "image/png": {
              "width": 380,
              "height": 263
            }
          }
        }
      ]
    },
    {
      "cell_type": "markdown",
      "metadata": {
        "id": "coNmpPpE7aM1",
        "colab_type": "text"
      },
      "source": [
        "## Try a combination of optimal parameters"
      ]
    },
    {
      "cell_type": "code",
      "metadata": {
        "id": "D4rsQNl671aa",
        "colab_type": "code",
        "colab": {
          "base_uri": "https://localhost:8080/",
          "height": 555
        },
        "outputId": "2784e868-ad76-4f51-e64c-7ea5411e2202"
      },
      "source": [
        "\n",
        "learning_rate_c = 0.3\n",
        "batch_size_c =  1024\n",
        "\n",
        "\n",
        "StartTime = time.time()\n",
        "sgd_lr = optimizers.SGD(lr = learning_rate_c, decay=1e-6, momentum=0.0, nesterov=True)  \n",
        "model.compile(optimizer = sgd_lr, loss = \"categorical_crossentropy\", metrics = [\"accuracy\"])\n",
        "\n",
        "model_fit = model.fit(x_train, y_train, batch_size = batch_size_c, epochs = 5, verbose = True, validation_split = 0.1)\n",
        "\n",
        "# End timer\n",
        "EndTime = time.time()\n",
        "durTime = EndTime - StartTime\n",
        "\n",
        "loss, accuracy = model.evaluate(x_test, y_test, verbose = False)\n",
        "\n",
        "plot_loss_accuracy(model_fit, title = \"a combined model\")\n",
        "\n",
        "# print(durTime)\n",
        "print(f'Time consumption: {durTime}')\n",
        "# 'Time consumption: ' + \n",
        "print(f'Test loss: {loss:.3}')\n",
        "print(f'Test accuracy: {accuracy:.3}')\n",
        "# print(f'Time cost: {time:.2}')\n"
      ],
      "execution_count": 194,
      "outputs": [
        {
          "output_type": "stream",
          "text": [
            "Train on 54000 samples, validate on 6000 samples\n",
            "Epoch 1/5\n",
            "54000/54000 [==============================] - 6s 113us/step - loss: 0.2122 - acc: 0.9254 - val_loss: 0.3255 - val_acc: 0.8873\n",
            "Epoch 2/5\n",
            "54000/54000 [==============================] - 1s 12us/step - loss: 0.2121 - acc: 0.9251 - val_loss: 0.3249 - val_acc: 0.8873\n",
            "Epoch 3/5\n",
            "54000/54000 [==============================] - 1s 14us/step - loss: 0.2121 - acc: 0.9256 - val_loss: 0.3256 - val_acc: 0.8885\n",
            "Epoch 4/5\n",
            "54000/54000 [==============================] - 1s 15us/step - loss: 0.2118 - acc: 0.9248 - val_loss: 0.3262 - val_acc: 0.8858\n",
            "Epoch 5/5\n",
            "54000/54000 [==============================] - 1s 13us/step - loss: 0.2121 - acc: 0.9254 - val_loss: 0.3255 - val_acc: 0.8865\n",
            "Time consumption: 9.282254219055176\n",
            "Test loss: 0.351\n",
            "Test accuracy: 0.88\n"
          ],
          "name": "stdout"
        },
        {
          "output_type": "display_data",
          "data": {
            "text/plain": [
              "<Figure size 576x432 with 0 Axes>"
            ]
          },
          "metadata": {
            "tags": []
          }
        },
        {
          "output_type": "display_data",
          "data": {
            "image/png": "[encoded data removed]",
            "text/plain": [
              "<Figure size 432x288 with 1 Axes>"
            ]
          },
          "metadata": {
            "tags": [],
            "image/png": {
              "width": 380,
              "height": 263
            }
          }
        }
      ]
    },
    {
      "cell_type": "markdown",
      "metadata": {
        "id": "wPfPxMqc7afZ",
        "colab_type": "text"
      },
      "source": [
        "# More dynamic models\n",
        "Prepare the random modelling environment"
      ]
    },
    {
      "cell_type": "code",
      "metadata": {
        "id": "2sGNMoKLGEe8",
        "colab_type": "code",
        "colab": {}
      },
      "source": [
        "# Optimizer options for random models\n",
        "opt_dict = {'nadam':Nadam,\n",
        "            'adam':Adam,\n",
        "            'sgd':SGD,\n",
        "            'rmsprop':RMSprop,\n",
        "            'adadelta':Adadelta,\n",
        "            'adagrad':Adagrad}\n",
        "\n",
        "\n",
        "## some units are randomly removed\n",
        "def build_dropout_model():\n",
        "  model = model_64\n",
        "#   Sequential()\n",
        "\n",
        "  # The input layer requires the special input_shape parameter which should match\n",
        "  # the shape of our training data.\n",
        "  model.add(Dense(units=32, activation='sigmoid', input_shape=(image_vector_size,)))\n",
        "  # probability of being dropped out is 0.2\n",
        "  model.add(Dropout(0.2))\n",
        "  model.add(Dense(units=num_classes, activation='softmax'))\n",
        "  return model\n",
        "\n",
        "## two layers\n",
        "def build_deeper_model():\n",
        "  model = model_64\n",
        "#   Sequential()\n",
        "  model.add(Dense(units=64, activation='sigmoid', input_shape=(image_vector_size,)))\n",
        "  model.add(Dense(units=32, activation='sigmoid'))\n",
        "  model.add(Dense(units=num_classes, activation='softmax'))\n",
        "  return model\n",
        "\n"
      ],
      "execution_count": 0,
      "outputs": []
    },
    {
      "cell_type": "markdown",
      "metadata": {
        "id": "EbzEbf_kGZB5",
        "colab_type": "text"
      },
      "source": [
        "## Implement random modelling"
      ]
    },
    {
      "cell_type": "code",
      "metadata": {
        "id": "39TlBYiQGbya",
        "colab_type": "code",
        "colab": {
          "base_uri": "https://localhost:8080/",
          "height": 1000
        },
        "outputId": "b743a397-fcc3-45df-f91f-48f34ca79447"
      },
      "source": [
        "model_do = build_dropout_model()\n",
        "# or\n",
        "model_deep = build_deeper_model()\n",
        "# or make your own model! (recommended)\n",
        "\n",
        "# set all the following values yourself\n",
        "optimizer_name  = 'sgd' # any of the following: nadam, adam, sgd, rmsprop, adadelta, adagrad\n",
        "learning_rate = 0.3 # some number between 0 and 1\n",
        "batch_size = 1024 #some integer, try some number that's a power of 2\n",
        "training_epochs = 20 # some integer\n",
        "\n",
        "\n",
        "# selects optimizer and sets learning rate\n",
        "optimizer = opt_dict[optimizer_name](lr=learning_rate)\n",
        "\n",
        "model_do.compile(optimizer=optimizer_name, loss='categorical_crossentropy', metrics=['accuracy'])\n",
        "model_deep.compile(optimizer=optimizer_name, loss='categorical_crossentropy', metrics=['accuracy'])\n",
        "\n",
        "model_do_fit = model_do.fit(x_train, y_train, batch_size=batch_size, epochs=training_epochs, verbose=True, validation_split=.1)\n",
        "model_deep_fit = model_deep.fit(x_train, y_train, batch_size=batch_size, epochs=training_epochs, verbose=True, validation_split=.1)"
      ],
      "execution_count": 35,
      "outputs": [
        {
          "output_type": "stream",
          "text": [
            "Train on 54000 samples, validate on 6000 samples\n",
            "Epoch 1/20\n",
            "54000/54000 [==============================] - 3s 52us/step - loss: 2.3861 - acc: 0.1000 - val_loss: 2.3543 - val_acc: 0.1003\n",
            "Epoch 2/20\n",
            "54000/54000 [==============================] - 1s 20us/step - loss: 2.3341 - acc: 0.0994 - val_loss: 2.3229 - val_acc: 0.0942\n",
            "Epoch 3/20\n",
            "54000/54000 [==============================] - 1s 20us/step - loss: 2.3142 - acc: 0.1005 - val_loss: 2.3106 - val_acc: 0.0942\n",
            "Epoch 4/20\n",
            "54000/54000 [==============================] - 1s 20us/step - loss: 2.3068 - acc: 0.1006 - val_loss: 2.3058 - val_acc: 0.0942\n",
            "Epoch 5/20\n",
            "54000/54000 [==============================] - 1s 20us/step - loss: 2.3040 - acc: 0.1006 - val_loss: 2.3040 - val_acc: 0.0942\n",
            "Epoch 6/20\n",
            "54000/54000 [==============================] - 1s 21us/step - loss: 2.3031 - acc: 0.1006 - val_loss: 2.3034 - val_acc: 0.0942\n",
            "Epoch 7/20\n",
            "54000/54000 [==============================] - 1s 20us/step - loss: 2.3028 - acc: 0.1006 - val_loss: 2.3031 - val_acc: 0.0942\n",
            "Epoch 8/20\n",
            "54000/54000 [==============================] - 1s 20us/step - loss: 2.3027 - acc: 0.0997 - val_loss: 2.3029 - val_acc: 0.0942\n",
            "Epoch 9/20\n",
            "54000/54000 [==============================] - 1s 20us/step - loss: 2.3026 - acc: 0.1007 - val_loss: 2.3029 - val_acc: 0.0942\n",
            "Epoch 10/20\n",
            "54000/54000 [==============================] - 1s 20us/step - loss: 2.3026 - acc: 0.1004 - val_loss: 2.3028 - val_acc: 0.0942\n",
            "Epoch 11/20\n",
            "54000/54000 [==============================] - 1s 20us/step - loss: 2.3026 - acc: 0.0982 - val_loss: 2.3028 - val_acc: 0.0942\n",
            "Epoch 12/20\n",
            "54000/54000 [==============================] - 1s 20us/step - loss: 2.3026 - acc: 0.0988 - val_loss: 2.3028 - val_acc: 0.0942\n",
            "Epoch 13/20\n",
            "54000/54000 [==============================] - 1s 20us/step - loss: 2.3026 - acc: 0.1002 - val_loss: 2.3028 - val_acc: 0.0942\n",
            "Epoch 14/20\n",
            "54000/54000 [==============================] - 1s 20us/step - loss: 2.3026 - acc: 0.1007 - val_loss: 2.3028 - val_acc: 0.0925\n",
            "Epoch 15/20\n",
            "54000/54000 [==============================] - 1s 20us/step - loss: 2.3026 - acc: 0.0993 - val_loss: 2.3028 - val_acc: 0.0925\n",
            "Epoch 16/20\n",
            "54000/54000 [==============================] - 1s 20us/step - loss: 2.3026 - acc: 0.1000 - val_loss: 2.3028 - val_acc: 0.0925\n",
            "Epoch 17/20\n",
            "54000/54000 [==============================] - 1s 20us/step - loss: 2.3026 - acc: 0.1003 - val_loss: 2.3028 - val_acc: 0.0925\n",
            "Epoch 18/20\n",
            "54000/54000 [==============================] - 1s 20us/step - loss: 2.3026 - acc: 0.0992 - val_loss: 2.3028 - val_acc: 0.0925\n",
            "Epoch 19/20\n",
            "54000/54000 [==============================] - 1s 20us/step - loss: 2.3026 - acc: 0.0995 - val_loss: 2.3028 - val_acc: 0.0925\n",
            "Epoch 20/20\n",
            "54000/54000 [==============================] - 1s 21us/step - loss: 2.3026 - acc: 0.0996 - val_loss: 2.3028 - val_acc: 0.0925\n",
            "Train on 54000 samples, validate on 6000 samples\n",
            "Epoch 1/20\n",
            "54000/54000 [==============================] - 1s 20us/step - loss: 2.3026 - acc: 0.1011 - val_loss: 2.3028 - val_acc: 0.0942\n",
            "Epoch 2/20\n",
            "54000/54000 [==============================] - 1s 20us/step - loss: 2.3026 - acc: 0.0978 - val_loss: 2.3028 - val_acc: 0.0925\n",
            "Epoch 3/20\n",
            "54000/54000 [==============================] - 1s 20us/step - loss: 2.3026 - acc: 0.0983 - val_loss: 2.3028 - val_acc: 0.0925\n",
            "Epoch 4/20\n",
            "54000/54000 [==============================] - 1s 20us/step - loss: 2.3026 - acc: 0.0994 - val_loss: 2.3028 - val_acc: 0.0942\n",
            "Epoch 5/20\n",
            "54000/54000 [==============================] - 1s 20us/step - loss: 2.3026 - acc: 0.0984 - val_loss: 2.3028 - val_acc: 0.0925\n",
            "Epoch 6/20\n",
            "54000/54000 [==============================] - 1s 20us/step - loss: 2.3026 - acc: 0.1002 - val_loss: 2.3028 - val_acc: 0.0942\n",
            "Epoch 7/20\n",
            "54000/54000 [==============================] - 1s 20us/step - loss: 2.3026 - acc: 0.1000 - val_loss: 2.3028 - val_acc: 0.0942\n",
            "Epoch 8/20\n",
            "54000/54000 [==============================] - 1s 20us/step - loss: 2.3026 - acc: 0.0995 - val_loss: 2.3028 - val_acc: 0.0925\n",
            "Epoch 9/20\n",
            "54000/54000 [==============================] - 1s 20us/step - loss: 2.3026 - acc: 0.0985 - val_loss: 2.3028 - val_acc: 0.0925\n",
            "Epoch 10/20\n",
            "54000/54000 [==============================] - 1s 21us/step - loss: 2.3026 - acc: 0.1012 - val_loss: 2.3028 - val_acc: 0.0942\n",
            "Epoch 11/20\n",
            "54000/54000 [==============================] - 1s 20us/step - loss: 2.3026 - acc: 0.0985 - val_loss: 2.3028 - val_acc: 0.0925\n",
            "Epoch 12/20\n",
            "54000/54000 [==============================] - 1s 20us/step - loss: 2.3026 - acc: 0.0989 - val_loss: 2.3028 - val_acc: 0.0925\n",
            "Epoch 13/20\n",
            "54000/54000 [==============================] - 1s 20us/step - loss: 2.3026 - acc: 0.0982 - val_loss: 2.3028 - val_acc: 0.0925\n",
            "Epoch 14/20\n",
            "54000/54000 [==============================] - 1s 20us/step - loss: 2.3026 - acc: 0.0997 - val_loss: 2.3028 - val_acc: 0.0925\n",
            "Epoch 15/20\n",
            "54000/54000 [==============================] - 1s 20us/step - loss: 2.3026 - acc: 0.0999 - val_loss: 2.3028 - val_acc: 0.0925\n",
            "Epoch 16/20\n",
            "54000/54000 [==============================] - 1s 20us/step - loss: 2.3026 - acc: 0.0996 - val_loss: 2.3028 - val_acc: 0.0925\n",
            "Epoch 17/20\n",
            "54000/54000 [==============================] - 1s 20us/step - loss: 2.3026 - acc: 0.1007 - val_loss: 2.3028 - val_acc: 0.0925\n",
            "Epoch 18/20\n",
            "54000/54000 [==============================] - 1s 20us/step - loss: 2.3026 - acc: 0.0999 - val_loss: 2.3028 - val_acc: 0.0925\n",
            "Epoch 19/20\n",
            "54000/54000 [==============================] - 1s 21us/step - loss: 2.3026 - acc: 0.0999 - val_loss: 2.3028 - val_acc: 0.0942\n",
            "Epoch 20/20\n",
            "54000/54000 [==============================] - 1s 20us/step - loss: 2.3026 - acc: 0.0984 - val_loss: 2.3028 - val_acc: 0.0925\n"
          ],
          "name": "stdout"
        }
      ]
    },
    {
      "cell_type": "markdown",
      "metadata": {
        "id": "ynXbEcM5Gn_3",
        "colab_type": "text"
      },
      "source": [
        "## Select optimal models"
      ]
    },
    {
      "cell_type": "code",
      "metadata": {
        "id": "oVYXrcr3GhP_",
        "colab_type": "code",
        "colab": {
          "base_uri": "https://localhost:8080/",
          "height": 331
        },
        "outputId": "f31521dc-fd66-405f-84e4-25bc4dbb4caf"
      },
      "source": [
        "plot_loss_accuracy(model_do_fit, \"test\")\n",
        "loss, accuracy  = model_do.evaluate(x_test, y_test, verbose=False)\n",
        "print(f'Test loss: {loss:.3}')\n",
        "print(f'Test accuracy: {accuracy:.3}')"
      ],
      "execution_count": 38,
      "outputs": [
        {
          "output_type": "stream",
          "text": [
            "Test loss: 2.3\n",
            "Test accuracy: 0.1\n"
          ],
          "name": "stdout"
        },
        {
          "output_type": "display_data",
          "data": {
            "text/plain": [
              "<Figure size 576x432 with 0 Axes>"
            ]
          },
          "metadata": {
            "tags": []
          }
        },
        {
          "output_type": "display_data",
          "data": {
            "image/png": "[encoded data removed]",
            "text/plain": [
              "<Figure size 432x288 with 1 Axes>"
            ]
          },
          "metadata": {
            "tags": [],
            "image/png": {
              "width": 373,
              "height": 263
            }
          }
        }
      ]
    },
    {
      "cell_type": "code",
      "metadata": {
        "id": "3KoG3piJqKIs",
        "colab_type": "code",
        "colab": {
          "base_uri": "https://localhost:8080/",
          "height": 331
        },
        "outputId": "8570d676-46d1-4daa-afa2-a195814708b4"
      },
      "source": [
        "plot_loss_accuracy(model_deep_fit, \"test\")\n",
        "loss, accuracy  = model_deep.evaluate(x_test, y_test, verbose=False)\n",
        "print(f'Test loss: {loss:.3}')\n",
        "print(f'Test accuracy: {accuracy:.3}')"
      ],
      "execution_count": 39,
      "outputs": [
        {
          "output_type": "stream",
          "text": [
            "Test loss: 2.3\n",
            "Test accuracy: 0.1\n"
          ],
          "name": "stdout"
        },
        {
          "output_type": "display_data",
          "data": {
            "text/plain": [
              "<Figure size 576x432 with 0 Axes>"
            ]
          },
          "metadata": {
            "tags": []
          }
        },
        {
          "output_type": "display_data",
          "data": {
            "image/png": "[encoded data removed]",
            "text/plain": [
              "<Figure size 432x288 with 1 Axes>"
            ]
          },
          "metadata": {
            "tags": [],
            "image/png": {
              "width": 373,
              "height": 263
            }
          }
        }
      ]
    }
  ]
}