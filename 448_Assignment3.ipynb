{
  "nbformat": 4,
  "nbformat_minor": 0,
  "metadata": {
    "colab": {
      "name": "448_Assignment3.ipynb",
      "provenance": [],
      "collapsed_sections": [],
      "toc_visible": true,
      "include_colab_link": true
    },
    "kernelspec": {
      "name": "python3",
      "display_name": "Python 3"
    }
  },
  "cells": [
    {
      "cell_type": "markdown",
      "metadata": {
        "id": "view-in-github",
        "colab_type": "text"
      },
      "source": [
        "<a href=\"https://colab.research.google.com/github/Cococatty/MachineLearningAssignment/blob/master/448_Assignment3.ipynb\" target=\"_parent\"><img src=\"https://colab.research.google.com/assets/colab-badge.svg\" alt=\"Open In Colab\"/></a>"
      ]
    },
    {
      "cell_type": "markdown",
      "metadata": {
        "id": "CDd7EWVBBvij",
        "colab_type": "text"
      },
      "source": [
        "Import all required libraries\n",
        "--------------------------------------\n"
      ]
    },
    {
      "cell_type": "code",
      "metadata": {
        "id": "QhAFwOrrAJC2",
        "colab_type": "code",
        "colab": {}
      },
      "source": [
        "%matplotlib inline\n",
        "%config InlineBackend.figure_format = 'retina'\n",
        "import matplotlib.pyplot as plt\n",
        "import pandas as pd\n",
        "\n",
        "import numpy as np\n",
        "import seaborn as sns\n",
        "import warnings\n",
        "import time\n",
        "\n",
        "warnings.filterwarnings('ignore')\n",
        "pd.options.display.float_format = '{:,.2f}'.format\n",
        "pd.set_option('display.max_rows', 100)\n",
        "pd.set_option('display.max_columns', 200)\n",
        "\n",
        "from __future__ import print_function\n",
        "from datetime import datetime\n",
        "from matplotlib.colors import ListedColormap\n",
        "from sklearn.datasets import make_classification, make_moons, make_circles\n",
        "from sklearn.metrics import confusion_matrix, classification_report, mean_squared_error, mean_absolute_error, r2_score\n",
        "from sklearn.linear_model import LogisticRegression\n",
        "from sklearn.utils import shuffle\n",
        "from keras.models import Sequential\n",
        "from keras.layers import Dense, Dropout, BatchNormalization, Activation\n",
        "from keras.optimizers import *\n",
        "from keras.callbacks import EarlyStopping\n",
        "from keras.utils.np_utils import to_categorical\n",
        "from sklearn.preprocessing import StandardScaler, LabelEncoder, OneHotEncoder, MinMaxScaler\n",
        "from sklearn.model_selection import train_test_split, cross_val_score, StratifiedKFold, KFold\n",
        "import keras.backend as K\n",
        "from keras.wrappers.scikit_learn import KerasClassifier\n",
        "\n",
        "from keras import optimizers"
      ],
      "execution_count": 0,
      "outputs": []
    },
    {
      "cell_type": "markdown",
      "metadata": {
        "id": "f_dfYCC-Am3D",
        "colab_type": "text"
      },
      "source": [
        "# Assisting function"
      ]
    },
    {
      "cell_type": "code",
      "metadata": {
        "id": "hlH5E7l0B8yR",
        "colab_type": "code",
        "colab": {}
      },
      "source": [
        "def plot_loss_accuracy(history, title):\n",
        "    historydf = pd.DataFrame(history.history, index=history.epoch)\n",
        "    plt.figure(figsize=(8, 6))\n",
        "    historydf.plot(ylim=(0, max(1, historydf.values.max())))\n",
        "    loss = history.history['loss'][-1]\n",
        "    acc = history.history['acc'][-1]\n",
        "    plt.title('Loss: %.3f, Accuracy: %.3f by %s' % (loss, acc, title))"
      ],
      "execution_count": 0,
      "outputs": []
    },
    {
      "cell_type": "markdown",
      "metadata": {
        "id": "We7WFUyZCN4Q",
        "colab_type": "text"
      },
      "source": [
        "# Load fashion_mnist data"
      ]
    },
    {
      "cell_type": "code",
      "metadata": {
        "id": "6gZ5_ofPCDiB",
        "colab_type": "code",
        "colab": {}
      },
      "source": [
        "from keras.datasets import fashion_mnist\n",
        "\n",
        "(x_train, y_train), (x_test, y_test) = fashion_mnist.load_data()"
      ],
      "execution_count": 0,
      "outputs": []
    },
    {
      "cell_type": "markdown",
      "metadata": {
        "id": "_KHeDtJ9_Wpr",
        "colab_type": "text"
      },
      "source": [
        "## Show basic data information"
      ]
    },
    {
      "cell_type": "code",
      "metadata": {
        "id": "vS4Ib5teCULx",
        "colab_type": "code",
        "outputId": "a2546579-89a5-4353-a546-26ab714f3097",
        "colab": {
          "base_uri": "https://localhost:8080/",
          "height": 119
        }
      },
      "source": [
        "print(\"Training data shape: \", x_train.shape) # (60000, 28, 28) -- 60000 images, each 28x28 pixels\n",
        "print(\"Test data shape\", x_test.shape) # (10000, 28, 28) -- 10000 images, each 28x28\n",
        "print(\"Training response shape:, \", y_train.shape)\n",
        "print(\"Testing response shape: \", y_test.shape)\n",
        "\n",
        "image_size = (x_train.shape[1], x_train.shape[2])\n",
        "\n",
        "print(image_size)\n",
        "print(x_train.shape[2])"
      ],
      "execution_count": 0,
      "outputs": [
        {
          "output_type": "stream",
          "text": [
            "Training data shape:  (60000, 28, 28)\n",
            "Test data shape (10000, 28, 28)\n",
            "Training response shape:,  (60000,)\n",
            "Testing response shape:  (10000,)\n",
            "(28, 28)\n",
            "28\n"
          ],
          "name": "stdout"
        }
      ]
    },
    {
      "cell_type": "markdown",
      "metadata": {
        "id": "ZnoovBrq_jqj",
        "colab_type": "text"
      },
      "source": [
        "# Preparing images data for fully connected network"
      ]
    },
    {
      "cell_type": "code",
      "metadata": {
        "id": "cLTz2uGKCm4R",
        "colab_type": "code",
        "outputId": "a291e33d-8e21-4a41-e438-486ee3006be3",
        "colab": {
          "base_uri": "https://localhost:8080/",
          "height": 170
        }
      },
      "source": [
        "# Flatten the images\n",
        "image_vector_size = image_size[0] * image_size[1] # 28 * 28\n",
        "x_train = x_train.reshape(x_train.shape[0], image_vector_size) /255.\n",
        "x_test = x_test.reshape(x_test.shape[0], image_vector_size) /255.\n",
        "print(x_train.shape)\n",
        "\n",
        "print(\"First 5 training labels: \", y_train[:5]) # [5, 0, 4, 1, 9]\n",
        "\n",
        "# Convert to \"one-hot\" vectors using the to_categorical function\n",
        "num_classes = 10\n",
        "y_train = to_categorical(y_train, num_classes)\n",
        "y_test = to_categorical(y_test, num_classes)\n",
        "print(\"First 5 training lables as one-hot encoded vectors:\\n\", y_train[:5])\n",
        "print(y_train.shape)"
      ],
      "execution_count": 0,
      "outputs": [
        {
          "output_type": "stream",
          "text": [
            "(60000, 784)\n",
            "First 5 training labels:  [9 0 0 3 0]\n",
            "First 5 training lables as one-hot encoded vectors:\n",
            " [[0. 0. 0. 0. 0. 0. 0. 0. 0. 1.]\n",
            " [1. 0. 0. 0. 0. 0. 0. 0. 0. 0.]\n",
            " [1. 0. 0. 0. 0. 0. 0. 0. 0. 0.]\n",
            " [0. 0. 0. 1. 0. 0. 0. 0. 0. 0.]\n",
            " [1. 0. 0. 0. 0. 0. 0. 0. 0. 0.]]\n",
            "(60000, 10)\n"
          ],
          "name": "stdout"
        }
      ]
    },
    {
      "cell_type": "markdown",
      "metadata": {
        "id": "sLbxNAxMD4WY",
        "colab_type": "text"
      },
      "source": [
        "# Simple models"
      ]
    },
    {
      "cell_type": "code",
      "metadata": {
        "id": "0lU1QEd_D4yz",
        "colab_type": "code",
        "outputId": "0364d883-f47c-4f36-ad52-125f097d35a6",
        "colab": {
          "base_uri": "https://localhost:8080/",
          "height": 425
        }
      },
      "source": [
        "def build_basic_model(num_unit = 32):\n",
        "  model = Sequential()\n",
        "  \n",
        "  model.add(Dense(\n",
        "      units = num_unit\n",
        "      , activation = \"sigmoid\"\n",
        "      , input_shape = (image_vector_size,)\n",
        "  ))\n",
        "  \n",
        "  model.add(Dense(\n",
        "      units = num_classes\n",
        "      , activation = \"softmax\"\n",
        "  ))\n",
        "  \n",
        "  return model\n",
        "  \n",
        "  \n",
        "model_32 = build_basic_model()\n",
        "model_64 = build_basic_model(64)\n",
        "model_32.summary()\n",
        "model_64.summary()"
      ],
      "execution_count": 0,
      "outputs": [
        {
          "output_type": "stream",
          "text": [
            "Model: \"sequential_7\"\n",
            "_________________________________________________________________\n",
            "Layer (type)                 Output Shape              Param #   \n",
            "=================================================================\n",
            "dense_13 (Dense)             (None, 32)                25120     \n",
            "_________________________________________________________________\n",
            "dense_14 (Dense)             (None, 10)                330       \n",
            "=================================================================\n",
            "Total params: 25,450\n",
            "Trainable params: 25,450\n",
            "Non-trainable params: 0\n",
            "_________________________________________________________________\n",
            "Model: \"sequential_8\"\n",
            "_________________________________________________________________\n",
            "Layer (type)                 Output Shape              Param #   \n",
            "=================================================================\n",
            "dense_15 (Dense)             (None, 64)                50240     \n",
            "_________________________________________________________________\n",
            "dense_16 (Dense)             (None, 10)                650       \n",
            "=================================================================\n",
            "Total params: 50,890\n",
            "Trainable params: 50,890\n",
            "Non-trainable params: 0\n",
            "_________________________________________________________________\n"
          ],
          "name": "stdout"
        }
      ]
    },
    {
      "cell_type": "markdown",
      "metadata": {
        "id": "LUt9bf827QeI",
        "colab_type": "text"
      },
      "source": [
        "# Fitting models with different configurations\n"
      ]
    },
    {
      "cell_type": "markdown",
      "metadata": {
        "id": "ZS9mvlU2mV6O",
        "colab_type": "text"
      },
      "source": [
        "## Try different optimizers"
      ]
    },
    {
      "cell_type": "code",
      "metadata": {
        "id": "Bwm351PBa2XP",
        "colab_type": "code",
        "colab": {}
      },
      "source": [
        "# Build and evaluate model\n",
        "def build_model_optimizer(optimizerName = \"sgd\"):\n",
        "  # Start timer\n",
        "  StartTime = time.time()\n",
        "  \n",
        "  # Build SGD model, unit = 32\n",
        "  model_32.compile(optimizer = optimizerName, loss = \"categorical_crossentropy\", metrics = [\"accuracy\"])\n",
        "  \n",
        "  # Fit SGD model, unit = 32\n",
        "  model_fit_32 = model_32.fit(x_train, y_train, batch_size = 128, epochs = 5, verbose = True, validation_split = 0.1)\n",
        "  \n",
        "  # Check SDG models, unit = 32\n",
        "  loss_32, accuracy_32 = model_32.evaluate(x_test, y_test, verbose = False)\n",
        "  \n",
        "  # End timer\n",
        "  EndTime = time.time()\n",
        "  time32 = EndTime - StartTime\n",
        "   \n",
        "  # unit = 64\n",
        "  StartTime = time.time()\n",
        "  model_64.compile(optimizer =optimizerName, loss = \"categorical_crossentropy\", metrics = [\"accuracy\"])\n",
        "  model_fit_64 = model_64.fit(x_train, y_train, batch_size = 128, epochs = 5, verbose = True, validation_split = 0.1)  \n",
        "  loss_64, accuracy_64 = model_64.evaluate(x_test, y_test, verbose = False)\n",
        "  # End timer\n",
        "  EndTime = time.time()\n",
        "  time64 = EndTime - StartTime\n",
        "  \n",
        "  print(optimizerName)\n",
        "  \n",
        "  plot_loss_accuracy(model_fit_32, title = optimizerName + \" 32 units\")\n",
        "  print(f'Test loss of 32: {loss_32:.3}')\n",
        "  print(f'Test accuracy of 32: {accuracy_32:.3}')\n",
        "  print(f'Time consumption of 32: {time32}')\n",
        " \n",
        "  plot_loss_accuracy(model_fit_64, title = optimizerName + \" 64 units\")\n",
        "  print(f'Test loss of 64: {loss_64:.3}')\n",
        "  print(f'Test accuracy of 64: {accuracy_64:.3}')\n",
        "  print(f'Time consumption of 64: {time64}')\n",
        "\n",
        "# print(model_sgd_fit_32.history.keys())"
      ],
      "execution_count": 0,
      "outputs": []
    },
    {
      "cell_type": "code",
      "metadata": {
        "id": "7jJcRiXcKmJc",
        "colab_type": "code",
        "outputId": "2075fac7-876f-4f0f-9a10-5c47f0ee69e2",
        "colab": {
          "base_uri": "https://localhost:8080/",
          "height": 1000
        }
      },
      "source": [
        "# build_model_optimizer(optimizerName = \"sgd\")\n",
        "# build_model_optimizer(optimizerName = \"adam\")\n",
        "build_model_optimizer(optimizerName = \"nadam\")"
      ],
      "execution_count": 141,
      "outputs": [
        {
          "output_type": "stream",
          "text": [
            "Train on 54000 samples, validate on 6000 samples\n",
            "Epoch 1/5\n",
            "54000/54000 [==============================] - 7s 121us/step - loss: 0.1895 - acc: 0.9321 - val_loss: 0.3591 - val_acc: 0.8812\n",
            "Epoch 2/5\n",
            "54000/54000 [==============================] - 2s 30us/step - loss: 0.1883 - acc: 0.9329 - val_loss: 0.3608 - val_acc: 0.8812\n",
            "Epoch 3/5\n",
            "54000/54000 [==============================] - 2s 31us/step - loss: 0.1857 - acc: 0.9336 - val_loss: 0.3672 - val_acc: 0.8808\n",
            "Epoch 4/5\n",
            "54000/54000 [==============================] - 2s 28us/step - loss: 0.1845 - acc: 0.9335 - val_loss: 0.3620 - val_acc: 0.8807\n",
            "Epoch 5/5\n",
            "54000/54000 [==============================] - 2s 29us/step - loss: 0.1828 - acc: 0.9339 - val_loss: 0.3570 - val_acc: 0.8832\n",
            "Train on 54000 samples, validate on 6000 samples\n",
            "Epoch 1/5\n",
            "54000/54000 [==============================] - 7s 129us/step - loss: 0.1287 - acc: 0.9545 - val_loss: 0.3566 - val_acc: 0.8915\n",
            "Epoch 2/5\n",
            "54000/54000 [==============================] - 2s 33us/step - loss: 0.1264 - acc: 0.9556 - val_loss: 0.3619 - val_acc: 0.8898\n",
            "Epoch 3/5\n",
            "54000/54000 [==============================] - 2s 33us/step - loss: 0.1239 - acc: 0.9557 - val_loss: 0.3711 - val_acc: 0.8867\n",
            "Epoch 4/5\n",
            "54000/54000 [==============================] - 2s 33us/step - loss: 0.1225 - acc: 0.9571 - val_loss: 0.3667 - val_acc: 0.8880\n",
            "Epoch 5/5\n",
            "54000/54000 [==============================] - 2s 33us/step - loss: 0.1191 - acc: 0.9577 - val_loss: 0.3853 - val_acc: 0.8835\n",
            "nadam\n",
            "Test loss of 32: 0.379\n",
            "Test accuracy of 32: 0.877\n",
            "Time consumption of 32: 13.629591226577759\n",
            "Test loss of 64: 0.397\n",
            "Test accuracy of 64: 0.877\n",
            "Time consumption of 64: 14.841285467147827\n"
          ],
          "name": "stdout"
        },
        {
          "output_type": "display_data",
          "data": {
            "text/plain": [
              "<Figure size 576x432 with 0 Axes>"
            ]
          },
          "metadata": {
            "tags": []
          }
        },
        {
          "output_type": "display_data",
          "data": {
            "image/png": "[encoded data removed]",
            "text/plain": [
              "<Figure size 432x288 with 1 Axes>"
            ]
          },
          "metadata": {
            "tags": [],
            "image/png": {
              "width": 380,
              "height": 263
            }
          }
        },
        {
          "output_type": "display_data",
          "data": {
            "text/plain": [
              "<Figure size 576x432 with 0 Axes>"
            ]
          },
          "metadata": {
            "tags": []
          }
        },
        {
          "output_type": "display_data",
          "data": {
            "image/png": "[encoded data removed]",
            "text/plain": [
              "<Figure size 432x288 with 1 Axes>"
            ]
          },
          "metadata": {
            "tags": [],
            "image/png": {
              "width": 380,
              "height": 263
            }
          }
        }
      ]
    },
    {
      "cell_type": "markdown",
      "metadata": {
        "id": "dVIEXMzIFGWi",
        "colab_type": "text"
      },
      "source": [
        "## Try different learning rates"
      ]
    },
    {
      "cell_type": "code",
      "metadata": {
        "id": "GIxbQ8VE9Xfz",
        "colab_type": "code",
        "colab": {
          "base_uri": "https://localhost:8080/",
          "height": 224
        },
        "outputId": "ee63cefd-b316-4e99-fefa-0d193b75c50d"
      },
      "source": [
        "learning_rate = 0.1\n",
        "\n",
        "sgd = optimizers.SGD(lr = learning_rate, decay=1e-6, momentum=0.0, nesterov=True)\n",
        "\n",
        "model.compile(optimizer = sgd, loss = \"categorical_crossentropy\", metrics = [\"accuracy\"])\n",
        "# model_64.compile(optimizer = \"sgd1\", loss = \"categorical_crossentropy\", metrics = [\"accuracy\"])\n",
        "\n",
        "\n",
        "model_fit = model.fit(x_train, y_train, batch_size = 128, epochs = 5, verbose = True, validation_split = 0.1)\n",
        "loss, accuracy = model.evaluate(x_test, y_test, verbose = False)\n",
        "\n",
        "\n",
        "# plot_loss_accuracy(model_32_fit)\n",
        "# print(f'Test loss: {loss_32:.3}')\n",
        "# print(f'Test accuracy: {accuracy_32:.3}')"
      ],
      "execution_count": 142,
      "outputs": [
        {
          "output_type": "stream",
          "text": [
            "Train on 54000 samples, validate on 6000 samples\n",
            "Epoch 1/5\n",
            "54000/54000 [==============================] - 7s 126us/step - loss: 0.7928 - acc: 0.7509 - val_loss: 0.6661 - val_acc: 0.7755\n",
            "Epoch 2/5\n",
            "54000/54000 [==============================] - 2s 30us/step - loss: 0.6219 - acc: 0.7915 - val_loss: 0.5816 - val_acc: 0.7937\n",
            "Epoch 3/5\n",
            "54000/54000 [==============================] - 2s 29us/step - loss: 0.5502 - acc: 0.8143 - val_loss: 0.5296 - val_acc: 0.8162\n",
            "Epoch 4/5\n",
            "54000/54000 [==============================] - 2s 29us/step - loss: 0.5102 - acc: 0.8258 - val_loss: 0.4935 - val_acc: 0.8247\n",
            "Epoch 5/5\n",
            "54000/54000 [==============================] - 2s 30us/step - loss: 0.4841 - acc: 0.8338 - val_loss: 0.4726 - val_acc: 0.8305\n"
          ],
          "name": "stdout"
        }
      ]
    },
    {
      "cell_type": "markdown",
      "metadata": {
        "id": "gUVn6HE27Zgh",
        "colab_type": "text"
      },
      "source": [
        "## Try different batch sizes"
      ]
    },
    {
      "cell_type": "markdown",
      "metadata": {
        "id": "coNmpPpE7aM1",
        "colab_type": "text"
      },
      "source": [
        "## Try different architectures"
      ]
    },
    {
      "cell_type": "markdown",
      "metadata": {
        "id": "wPfPxMqc7afZ",
        "colab_type": "text"
      },
      "source": [
        "# More dynamic models\n",
        "Prepare the random modelling environment"
      ]
    },
    {
      "cell_type": "code",
      "metadata": {
        "id": "2sGNMoKLGEe8",
        "colab_type": "code",
        "colab": {}
      },
      "source": [
        "# Optimizer options for random models\n",
        "opt_dict = {'nadam':Nadam,\n",
        "            'adam':Adam,\n",
        "            'sgd':SGD,\n",
        "            'rmsprop':RMSprop,\n",
        "            'adadelta':Adadelta,\n",
        "            'adagrad':Adagrad}\n",
        "\n",
        "\n",
        "## some units are randomly removed\n",
        "def build_dropout_model():\n",
        "  model = Sequential()\n",
        "\n",
        "  # The input layer requires the special input_shape parameter which should match\n",
        "  # the shape of our training data.\n",
        "  model.add(Dense(units=32, activation='sigmoid', input_shape=(image_vector_size,)))\n",
        "  # probability of being dropped out is 0.2\n",
        "  model.add(Dropout(0.2))\n",
        "  model.add(Dense(units=num_classes, activation='softmax'))\n",
        "  return model\n",
        "\n",
        "## two layers\n",
        "def build_deeper_model():\n",
        "  model = Sequential()\n",
        "  model.add(Dense(units=64, activation='sigmoid', input_shape=(image_vector_size,)))\n",
        "  model.add(Dense(units=32, activation='sigmoid'))\n",
        "  model.add(Dense(units=num_classes, activation='softmax'))\n",
        "  return model\n",
        "\n"
      ],
      "execution_count": 0,
      "outputs": []
    },
    {
      "cell_type": "markdown",
      "metadata": {
        "id": "EbzEbf_kGZB5",
        "colab_type": "text"
      },
      "source": [
        "## Implement random modelling"
      ]
    },
    {
      "cell_type": "code",
      "metadata": {
        "id": "39TlBYiQGbya",
        "colab_type": "code",
        "colab": {}
      },
      "source": [
        "model = build_dropout_model()\n",
        "# or\n",
        "model = build_deeper_model()\n",
        "# or make your own model! (recommended)\n",
        "\n",
        "# set all the following values yourself\n",
        "optimizer_name  = 'nadam' # any of the following: nadam, adam, sgd, rmsprop, adadelta, adagrad\n",
        "learning_rate = 0 # some number between 0 and 1\n",
        "batch_size = 128 #some integer, try some number that's a power of 2\n",
        "training_epochs = 20 # some integer\n",
        "\n",
        "\n",
        "# selects optimizer and sets learning rate\n",
        "optimizer = opt_dict[optimizer_name](lr=learning_rate)\n",
        "\n",
        "model.compile(optimizer, loss='categorical_crossentropy', metrics=['accuracy'])\n",
        "history = model.fit(x_train, y_train, batch_size=batch_size, epochs=training_epochs, verbose=True, validation_split=.1)"
      ],
      "execution_count": 0,
      "outputs": []
    },
    {
      "cell_type": "markdown",
      "metadata": {
        "id": "ynXbEcM5Gn_3",
        "colab_type": "text"
      },
      "source": [
        "## Select optimal models"
      ]
    },
    {
      "cell_type": "code",
      "metadata": {
        "id": "a2gLr_AvGqfV",
        "colab_type": "code",
        "colab": {}
      },
      "source": [
        ""
      ],
      "execution_count": 0,
      "outputs": []
    },
    {
      "cell_type": "markdown",
      "metadata": {
        "id": "qJZ1KdtwGglF",
        "colab_type": "text"
      },
      "source": [
        "## Plot optimal models"
      ]
    },
    {
      "cell_type": "code",
      "metadata": {
        "id": "oVYXrcr3GhP_",
        "colab_type": "code",
        "colab": {}
      },
      "source": [
        "plot_loss_accuracy(history)\n",
        "loss, accuracy  = model.evaluate(x_test, y_test, verbose=False)\n",
        "print(f'Test loss: {loss:.3}')\n",
        "print(f'Test accuracy: {accuracy:.3}')"
      ],
      "execution_count": 0,
      "outputs": []
    }
  ]
}